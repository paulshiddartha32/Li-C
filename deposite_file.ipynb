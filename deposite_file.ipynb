{
 "cells": [
  {
   "cell_type": "code",
   "execution_count": 16,
   "metadata": {},
   "outputs": [],
   "source": [
    "import numpy as np\n",
    "import pandas as pd\n",
    "import matplotlib.pyplot as plt\n",
    "import shutil\n",
    "import random\n",
    "import string \n",
    "\n"
   ]
  },
  {
   "cell_type": "code",
   "execution_count": 17,
   "metadata": {},
   "outputs": [
    {
     "data": {
      "text/plain": [
       "['in.relax_0', 'in.relax_1', 'in.relax_2', 'in.relax_3', 'in.relax_4']"
      ]
     },
     "execution_count": 17,
     "metadata": {},
     "output_type": "execute_result"
    }
   ],
   "source": [
    "filename= []\n",
    "for i in range (5):\n",
    "    shutil.copyfile('in.relax', \"in.relax_\" + str(i))\n",
    "    filename.append(\"in.relax_%s\" % i)\n",
    "filename\n"
   ]
  },
  {
   "cell_type": "code",
   "execution_count": 18,
   "metadata": {},
   "outputs": [
    {
     "name": "stdout",
     "output_type": "stream",
     "text": [
      "in.relax_0\n",
      "in.relax_1\n",
      "in.relax_2\n",
      "in.relax_3\n",
      "in.relax_4\n"
     ]
    }
   ],
   "source": [
    "for x in range(5):\n",
    "  print (filename [x])\n",
    "  fin = open(filename[x], \"rt\")\n",
    "  data = fin.read()\n",
    "  data = data.replace(\"twist1-08_graphene.lmp\",'twisted_bilayer_Li_%s.lmp'% x)\n",
    "  fin.close()\n",
    "  fin = open(filename[x], \"wt\")\n",
    "  fin.write(data)\n",
    "  #close the file\n",
    "  fin.close()"
   ]
  }
 ],
 "metadata": {
  "kernelspec": {
   "display_name": "Python 3.9.12 ('base')",
   "language": "python",
   "name": "python3"
  },
  "language_info": {
   "codemirror_mode": {
    "name": "ipython",
    "version": 3
   },
   "file_extension": ".py",
   "mimetype": "text/x-python",
   "name": "python",
   "nbconvert_exporter": "python",
   "pygments_lexer": "ipython3",
   "version": "3.9.12"
  },
  "orig_nbformat": 4,
  "vscode": {
   "interpreter": {
    "hash": "76aedada83ed4768fa31d5fd8713840eada7ea2a93fbc4da0605f2ee31c4439c"
   }
  }
 },
 "nbformat": 4,
 "nbformat_minor": 2
}
